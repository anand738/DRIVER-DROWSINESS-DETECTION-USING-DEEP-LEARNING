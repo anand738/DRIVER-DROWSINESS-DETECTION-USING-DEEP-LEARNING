{
 "cells": [
  {
   "cell_type": "code",
   "execution_count": 1,
   "metadata": {},
   "outputs": [],
   "source": [
    "import os\n",
    "import shutil\n",
    "import glob\n",
    "from tqdm import tqdm"
   ]
  },
  {
   "cell_type": "markdown",
   "metadata": {},
   "source": [
    "#\n",
    "subject ID:\n",
    "xxx\n",
    "\n",
    "image number:\n",
    "xxx\n",
    "\n",
    "gender:\n",
    "0 - male\n",
    "1 - famale\n",
    "\n",
    "glasses:\n",
    "0 - no\n",
    "1 - yes\n",
    "\n",
    "eye state:\n",
    "0 - close\n",
    "1 - open\n",
    "\n",
    "reflections:\n",
    "0 - none\n",
    "1 - low\n",
    "2 - high\n",
    "\n",
    "lighting conditions/image quality:\n",
    "0 - bad\n",
    "1 - good\n",
    "\n",
    "sensor type:\n",
    "01 - RealSense SR300 640x480\n",
    "02 - IDS Imaging, 1280x1024\n",
    "03 - Aptina Imagin 752x480\n",
    "\n",
    "example:\n",
    "s001_00123_0_0_0_0_0_01.png"
   ]
  },
  {
   "cell_type": "code",
   "execution_count": 2,
   "metadata": {},
   "outputs": [
    {
     "name": "stderr",
     "output_type": "stream",
     "text": [
      "0it [00:00, ?it/s]\n",
      "100%|██████████| 3242/3242 [00:04<00:00, 751.38it/s]\n",
      "100%|██████████| 1114/1114 [00:01<00:00, 735.38it/s]\n",
      "100%|██████████| 679/679 [00:00<00:00, 774.23it/s]\n",
      "100%|██████████| 1069/1069 [00:01<00:00, 734.77it/s]\n",
      "100%|██████████| 736/736 [00:00<00:00, 777.78it/s]\n",
      "100%|██████████| 1012/1012 [00:01<00:00, 764.52it/s]\n",
      "100%|██████████| 624/624 [00:00<00:00, 703.20it/s]\n",
      "100%|██████████| 832/832 [00:01<00:00, 764.96it/s]\n",
      "100%|██████████| 387/387 [00:00<00:00, 690.84it/s]\n",
      "100%|██████████| 399/399 [00:00<00:00, 762.66it/s]\n",
      "100%|██████████| 1648/1648 [00:02<00:00, 707.91it/s]\n",
      "100%|██████████| 8728/8728 [00:12<00:00, 711.41it/s]\n",
      "100%|██████████| 3605/3605 [00:04<00:00, 731.84it/s]\n",
      "100%|██████████| 8884/8884 [00:12<00:00, 714.82it/s]\n",
      "100%|██████████| 1132/1132 [00:01<00:00, 708.96it/s]\n",
      "100%|██████████| 1889/1889 [00:02<00:00, 689.41it/s]\n",
      "100%|██████████| 1648/1648 [00:02<00:00, 683.86it/s]\n",
      "100%|██████████| 4410/4410 [00:07<00:00, 586.69it/s]\n",
      "100%|██████████| 6175/6175 [00:09<00:00, 624.59it/s]\n",
      "100%|██████████| 704/704 [00:01<00:00, 614.60it/s]\n",
      "100%|██████████| 987/987 [00:01<00:00, 643.18it/s]\n",
      "100%|██████████| 382/382 [00:00<00:00, 596.94it/s]\n",
      "100%|██████████| 522/522 [00:00<00:00, 621.35it/s]\n",
      "100%|██████████| 752/752 [00:01<00:00, 616.31it/s]\n",
      "100%|██████████| 1502/1502 [00:02<00:00, 628.95it/s]\n",
      "100%|██████████| 1246/1246 [00:02<00:00, 599.57it/s]\n",
      "100%|██████████| 665/665 [00:01<00:00, 549.95it/s]\n",
      "100%|██████████| 736/736 [00:01<00:00, 621.57it/s]\n",
      "100%|██████████| 1393/1393 [00:02<00:00, 608.17it/s]\n",
      "100%|██████████| 1384/1384 [00:02<00:00, 607.61it/s]\n",
      "100%|██████████| 1738/1738 [00:02<00:00, 654.70it/s]\n",
      "100%|██████████| 6162/6162 [00:09<00:00, 651.00it/s]\n",
      "100%|██████████| 681/681 [00:01<00:00, 609.55it/s]\n",
      "100%|██████████| 739/739 [00:01<00:00, 677.12it/s]\n",
      "100%|██████████| 642/642 [00:00<00:00, 690.04it/s]\n",
      "100%|██████████| 6193/6193 [00:09<00:00, 682.51it/s]\n",
      "100%|██████████| 10257/10257 [00:16<00:00, 622.47it/s]\n"
     ]
    }
   ],
   "source": [
    "Raw_DIR= r'C:\\Anand Gupta\\Dowssiness\\MRL EYE DATA\\mrlEyes_2018_01'\n",
    "for dirpath, dirname, filenames in os.walk(Raw_DIR):\n",
    "    for i in tqdm([f for f in filenames if f.endswith('.png')]):\n",
    "        if i.split('_')[4]=='0':\n",
    "            shutil.copy(src=dirpath+'/'+i, dst=r'C:\\Anand Gupta\\Dowssiness\\MRL EYE DATA\\Prepared_data\\Close Eyes')\n",
    "        \n",
    "        elif i.split('_')[4]=='1':\n",
    "            shutil.copy(src=dirpath+'/'+i, dst=r'C:\\Anand Gupta\\Dowssiness\\MRL EYE DATA\\Prepared_data\\Open Eyes')\n"
   ]
  },
  {
   "cell_type": "code",
   "execution_count": null,
   "metadata": {},
   "outputs": [],
   "source": []
  },
  {
   "cell_type": "code",
   "execution_count": null,
   "metadata": {},
   "outputs": [],
   "source": []
  }
 ],
 "metadata": {
  "interpreter": {
   "hash": "a9cff5a362bc38ef45d817ae74b1af54d6a076e3d773891282bce078b815ba34"
  },
  "kernelspec": {
   "display_name": "Python 3.10.4 64-bit",
   "language": "python",
   "name": "python3"
  },
  "language_info": {
   "codemirror_mode": {
    "name": "ipython",
    "version": 3
   },
   "file_extension": ".py",
   "mimetype": "text/x-python",
   "name": "python",
   "nbconvert_exporter": "python",
   "pygments_lexer": "ipython3",
   "version": "3.10.4"
  }
 },
 "nbformat": 4,
 "nbformat_minor": 4
}
